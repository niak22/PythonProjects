{
 "cells": [
  {
   "cell_type": "code",
   "execution_count": 1,
   "metadata": {},
   "outputs": [],
   "source": [
    "import os\n",
    "import pandas as pd\n",
    "import numpy as np"
   ]
  },
  {
   "cell_type": "code",
   "execution_count": 2,
   "metadata": {},
   "outputs": [],
   "source": [
    "data = pd.read_csv('./deeplearning-assignment-data/my_emotion_train.csv')"
   ]
  },
  {
   "cell_type": "code",
   "execution_count": 3,
   "metadata": {},
   "outputs": [
    {
     "data": {
      "text/html": [
       "<div>\n",
       "<style scoped>\n",
       "    .dataframe tbody tr th:only-of-type {\n",
       "        vertical-align: middle;\n",
       "    }\n",
       "\n",
       "    .dataframe tbody tr th {\n",
       "        vertical-align: top;\n",
       "    }\n",
       "\n",
       "    .dataframe thead th {\n",
       "        text-align: right;\n",
       "    }\n",
       "</style>\n",
       "<table border=\"1\" class=\"dataframe\">\n",
       "  <thead>\n",
       "    <tr style=\"text-align: right;\">\n",
       "      <th></th>\n",
       "      <th>id</th>\n",
       "      <th>emotion</th>\n",
       "      <th>pixels</th>\n",
       "    </tr>\n",
       "  </thead>\n",
       "  <tbody>\n",
       "    <tr>\n",
       "      <th>0</th>\n",
       "      <td>9415</td>\n",
       "      <td>6</td>\n",
       "      <td>29 16 18 18 18 20 19 18 17 17 17 18 17 18 17 1...</td>\n",
       "    </tr>\n",
       "    <tr>\n",
       "      <th>1</th>\n",
       "      <td>19109</td>\n",
       "      <td>3</td>\n",
       "      <td>126 154 167 181 188 194 195 194 196 195 198 20...</td>\n",
       "    </tr>\n",
       "    <tr>\n",
       "      <th>2</th>\n",
       "      <td>21523</td>\n",
       "      <td>2</td>\n",
       "      <td>169 220 218 208 184 144 72 73 143 183 203 210 ...</td>\n",
       "    </tr>\n",
       "    <tr>\n",
       "      <th>3</th>\n",
       "      <td>2076</td>\n",
       "      <td>3</td>\n",
       "      <td>60 64 72 80 83 83 80 82 89 106 114 125 125 127...</td>\n",
       "    </tr>\n",
       "    <tr>\n",
       "      <th>4</th>\n",
       "      <td>13957</td>\n",
       "      <td>3</td>\n",
       "      <td>174 148 121 97 78 70 62 57 54 54 42 58 40 64 1...</td>\n",
       "    </tr>\n",
       "    <tr>\n",
       "      <th>5</th>\n",
       "      <td>24794</td>\n",
       "      <td>6</td>\n",
       "      <td>60 25 28 18 5 3 11 30 14 13 48 105 129 104 107...</td>\n",
       "    </tr>\n",
       "    <tr>\n",
       "      <th>6</th>\n",
       "      <td>7099</td>\n",
       "      <td>6</td>\n",
       "      <td>42 46 59 63 75 93 111 115 121 127 132 138 143 ...</td>\n",
       "    </tr>\n",
       "    <tr>\n",
       "      <th>7</th>\n",
       "      <td>14912</td>\n",
       "      <td>2</td>\n",
       "      <td>215 212 214 223 230 229 231 233 233 234 234 23...</td>\n",
       "    </tr>\n",
       "    <tr>\n",
       "      <th>8</th>\n",
       "      <td>24418</td>\n",
       "      <td>3</td>\n",
       "      <td>248 255 183 71 75 123 133 115 82 62 56 52 51 5...</td>\n",
       "    </tr>\n",
       "    <tr>\n",
       "      <th>9</th>\n",
       "      <td>25170</td>\n",
       "      <td>4</td>\n",
       "      <td>156 66 120 68 0 5 2 7 0 65 209 234 237 253 160...</td>\n",
       "    </tr>\n",
       "  </tbody>\n",
       "</table>\n",
       "</div>"
      ],
      "text/plain": [
       "      id  emotion                                             pixels\n",
       "0   9415        6  29 16 18 18 18 20 19 18 17 17 17 18 17 18 17 1...\n",
       "1  19109        3  126 154 167 181 188 194 195 194 196 195 198 20...\n",
       "2  21523        2  169 220 218 208 184 144 72 73 143 183 203 210 ...\n",
       "3   2076        3  60 64 72 80 83 83 80 82 89 106 114 125 125 127...\n",
       "4  13957        3  174 148 121 97 78 70 62 57 54 54 42 58 40 64 1...\n",
       "5  24794        6  60 25 28 18 5 3 11 30 14 13 48 105 129 104 107...\n",
       "6   7099        6  42 46 59 63 75 93 111 115 121 127 132 138 143 ...\n",
       "7  14912        2  215 212 214 223 230 229 231 233 233 234 234 23...\n",
       "8  24418        3  248 255 183 71 75 123 133 115 82 62 56 52 51 5...\n",
       "9  25170        4  156 66 120 68 0 5 2 7 0 65 209 234 237 253 160..."
      ]
     },
     "execution_count": 3,
     "metadata": {},
     "output_type": "execute_result"
    }
   ],
   "source": [
    "data.head(10)"
   ]
  },
  {
   "cell_type": "code",
   "execution_count": 4,
   "metadata": {},
   "outputs": [
    {
     "data": {
      "text/plain": [
       "3    7289\n",
       "6    4992\n",
       "4    4942\n",
       "2    4138\n",
       "0    3993\n",
       "5    3206\n",
       "1     440\n",
       "Name: emotion, dtype: int64"
      ]
     },
     "execution_count": 4,
     "metadata": {},
     "output_type": "execute_result"
    }
   ],
   "source": [
    "data['emotion'].value_counts()"
   ]
  },
  {
   "cell_type": "code",
   "execution_count": null,
   "metadata": {},
   "outputs": [],
   "source": []
  }
 ],
 "metadata": {
  "kernelspec": {
   "display_name": "Python 3",
   "language": "python",
   "name": "python3"
  },
  "language_info": {
   "codemirror_mode": {
    "name": "ipython",
    "version": 3
   },
   "file_extension": ".py",
   "mimetype": "text/x-python",
   "name": "python",
   "nbconvert_exporter": "python",
   "pygments_lexer": "ipython3",
   "version": "3.11.7 (main, Dec  4 2023, 18:10:11) [Clang 15.0.0 (clang-1500.1.0.2.5)]"
  },
  "orig_nbformat": 4,
  "vscode": {
   "interpreter": {
    "hash": "b0fa6594d8f4cbf19f97940f81e996739fb7646882a419484c72d19e05852a7e"
   }
  }
 },
 "nbformat": 4,
 "nbformat_minor": 2
}
